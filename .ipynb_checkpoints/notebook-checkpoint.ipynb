{
 "cells": [
  {
   "cell_type": "code",
   "execution_count": 1,
   "metadata": {},
   "outputs": [],
   "source": [
    "from dotenv import load_dotenv\n",
    "_ = load_dotenv()"
   ]
  },
  {
   "cell_type": "code",
   "execution_count": 18,
   "metadata": {
    "scrolled": true
   },
   "outputs": [],
   "source": [
    "from langgraph.graph import StateGraph, END\n",
    "from typing import TypedDict, Annotated\n",
    "import operator\n",
    "from langchain_core.messages import AnyMessage, SystemMessage, HumanMessage, ToolMessage\n",
    "from langchain_openai import ChatOpenAI\n",
    "from IPython.display import Image"
   ]
  },
  {
   "cell_type": "code",
   "execution_count": 3,
   "metadata": {},
   "outputs": [],
   "source": [
    "class AgentState(TypedDict):\n",
    "    messages: Annotated[list[AnyMessage], operator.add]"
   ]
  },
  {
   "cell_type": "code",
   "execution_count": 37,
   "metadata": {},
   "outputs": [],
   "source": [
    "from langchain.pydantic_v1 import BaseModel, Field\n",
    "from langchain.tools import BaseTool, StructuredTool, tool\n",
    "import requests\n",
    "\n",
    "search_url = \"https://s.jina.ai/\"\n",
    "\n",
    "class SearchInput(BaseModel):\n",
    "    query: str = Field(description=\"should be a search query\")\n",
    "\n",
    "@tool(\"search-tool\", args_schema=SearchInput, return_direct=True)\n",
    "def search_tool(query: str) -> str:\n",
    "    \"\"\"Search a query online and output the markdown\"\"\"\n",
    "    return requests.get(search_url + query)"
   ]
  },
  {
   "cell_type": "code",
   "execution_count": 31,
   "metadata": {},
   "outputs": [],
   "source": [
    "tools = [search_tool, read_page]"
   ]
  },
  {
   "cell_type": "code",
   "execution_count": 38,
   "metadata": {},
   "outputs": [],
   "source": [
    "prompt = \"\"\"You are a smart AI assistant who will help users find restaurants fitting their dietary needs. \\\\\n",
    "Use the search engine to look up information. \\\\\n",
    "You must gather information such as restaurants, phone numbers, emails, dietary offerings, and customer reviews. \\\\\n",
    "You are allowed to make multiple calls (either together or in sequence). \\\\\n",
    "Only look up information when you are sure of what you want. \\\\\n",
    "If you need to look up some information before asking a follow-up question, you are allowed to do that! \\\\\n",
    "\"\"\"\n",
    "model = ChatOpenAI(model=\"gpt-4-o\")\n",
    "abot = Agent(model, tools, system=prompt)"
   ]
  },
  {
   "cell_type": "code",
   "execution_count": 33,
   "metadata": {},
   "outputs": [
    {
     "data": {
      "image/png": "[encoded data removed]",
      "text/plain": [
       "<IPython.core.display.Image object>"
      ]
     },
     "execution_count": 33,
     "metadata": {},
     "output_type": "execute_result"
    }
   ],
   "source": [
    "Image(abot.graph.get_graph().draw_png())"
   ]
  },
  {
   "cell_type": "code",
   "execution_count": 34,
   "metadata": {},
   "outputs": [
    {
     "name": "stdout",
     "output_type": "stream",
     "text": [
      "Calling: {'name': 'search-tool', 'args': {'query': 'vegan restaurants in Rochester NY'}, 'id': 'call_iOtqp06IBcKgZqfjyHja8Esi'}\n",
      "Back to the model!\n",
      "Calling: {'name': 'search-tool', 'args': {'query': 'vegan restaurants in Rochester NY'}, 'id': 'call_5fmhYnNwNCFjUkBlXNOTB8jA'}\n",
      "Back to the model!\n"
     ]
    }
   ],
   "source": [
    "messages = [HumanMessage(content=\"What restaurants fit my veegan diet? I'm from Rochester NY\")]\n",
    "result = abot.graph.invoke({\"messages\": messages})"
   ]
  },
  {
   "cell_type": "code",
   "execution_count": 36,
   "metadata": {},
   "outputs": [
    {
     "data": {
      "text/plain": [
       "\"Here are some vegan restaurants in Rochester, NY:\\n\\n1. **The Red Fern**\\n   - **Address:** 283 Oxford St, Rochester, NY 14607\\n   - **Phone:** (585) 563-7633\\n   - **Offerings:** Vegan comfort food including desserts and gluten-free options.\\n   - **Reviews:** Highly praised for its creative dishes and friendly service.\\n\\n2. **Voula's Greek Sweets**\\n   - **Address:** 439 Monroe Ave, Rochester, NY 14607\\n   - **Phone:** (585) 242-0935\\n   - **Offerings:** Offers a variety of vegan dishes inspired by Greek cuisine.\\n   - **Reviews:** Known for its cozy atmosphere and authentic Greek desserts.\\n\\n3. **The Owl House**\\n   - **Address:** 75 Marshall St, Rochester, NY 14607\\n   - **Phone:** (585) 360-2920\\n   - **Offerings:** Focuses on vegan and vegetarian dishes with unique twists.\\n   - **Reviews:** Loved for its brunch options and inventive cocktails.\\n\\n4. **Natural Oasis Café**\\n   - **Address:** 288 Monroe Ave, Rochester, NY 14607\\n   - **Phone:** (585) 325-1831\\n   - **Offerings:** Ethiopian-inspired vegan buffet and à la carte options.\\n   - **Reviews:** Appreciated for its affordable prices and flavorful dishes.\\n\\nThese are some great options for vegan dining in Rochester. Let me know if you need more information about any of these places!\""
      ]
     },
     "execution_count": 36,
     "metadata": {},
     "output_type": "execute_result"
    }
   ],
   "source": [
    "result['messages'][-1].content"
   ]
  },
  {
   "cell_type": "code",
   "execution_count": null,
   "metadata": {},
   "outputs": [],
   "source": []
  }
 ],
 "metadata": {
  "kernelspec": {
   "display_name": "Python 3 (ipykernel)",
   "language": "python",
   "name": "python3"
  },
  "language_info": {
   "codemirror_mode": {
    "name": "ipython",
    "version": 3
   },
   "file_extension": ".py",
   "mimetype": "text/x-python",
   "name": "python",
   "nbconvert_exporter": "python",
   "pygments_lexer": "ipython3",
   "version": "3.12.3"
  }
 },
 "nbformat": 4,
 "nbformat_minor": 4
}
